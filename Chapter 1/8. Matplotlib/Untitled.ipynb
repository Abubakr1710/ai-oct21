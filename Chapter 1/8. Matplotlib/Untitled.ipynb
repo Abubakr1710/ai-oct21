{
 "cells": [
  {
   "cell_type": "code",
   "execution_count": 2,
   "metadata": {},
   "outputs": [],
   "source": [
    "from datetime import datetime\n",
    "from bs4 import BeautifulSoup\n",
    "import requests\n",
    "import pandas as pd\n",
    "from datetime import timedelta\n",
    "from lxml import etree"
   ]
  },
  {
   "cell_type": "code",
   "execution_count": 5,
   "metadata": {},
   "outputs": [],
   "source": [
    "def scraping():\n",
    "    base_url = 'https://www.imdb.com/'\n",
    "\n",
    "    page = requests.get('https://www.imdb.com/list/ls063897780/')\n",
    "    soup = BeautifulSoup(page.content, 'html.parser')"
   ]
  },
  {
   "cell_type": "code",
   "execution_count": 8,
   "metadata": {},
   "outputs": [],
   "source": [
    "def scraping():\n",
    "    base_url = 'https://www.imdb.com/'\n",
    "\n",
    "    page = requests.get('https://www.imdb.com/list/ls009668711/')\n",
    "    soup = BeautifulSoup(page.content, 'html.parser')\n",
    "\n",
    "    df = pd.DataFrame(columns=[\"movie_name\",\"description\",\"director_name\",\"rating\",\"genre_list\",\"stars_actors_list\"\\\n",
    "        ,\"user_reviews\",\"critic_reviews\",\"metascore\",\"country_release_date\",\"release_date\",\"duration\",\"filming_dates_initial\",\"filming_dates_final\"])\n",
    "\n",
    "    film_titles = soup.find_all('h3', class_=\"lister-item-header\")\n",
    "\n",
    "    for film in film_titles:\n",
    "\n",
    "        link_detail = film.find('a')\n",
    "        id_film = link_detail.get('href')\n",
    "        info_of_film = getting_info(base_url,id_film)\n",
    "        df2 = pd.DataFrame.from_dict(info_of_film)\n",
    "        df = df.append(df2, ignore_index=True)\n",
    "        print(info_of_film['movie_name'])\n",
    "    df.to_csv(path_or_buf='imdb_database.csv', sep=';',header=True)"
   ]
  },
  {
   "cell_type": "code",
   "execution_count": null,
   "metadata": {},
   "outputs": [],
   "source": [
    " "
   ]
  },
  {
   "cell_type": "code",
   "execution_count": null,
   "metadata": {},
   "outputs": [],
   "source": []
  }
 ],
 "metadata": {
  "kernelspec": {
   "display_name": "Python 3",
   "language": "python",
   "name": "python3"
  },
  "language_info": {
   "codemirror_mode": {
    "name": "ipython",
    "version": 3
   },
   "file_extension": ".py",
   "mimetype": "text/x-python",
   "name": "python",
   "nbconvert_exporter": "python",
   "pygments_lexer": "ipython3",
   "version": "3.8.3"
  }
 },
 "nbformat": 4,
 "nbformat_minor": 4
}
